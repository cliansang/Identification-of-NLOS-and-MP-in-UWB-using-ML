{
 "cells": [
  {
   "cell_type": "code",
   "execution_count": 3,
   "metadata": {},
   "outputs": [
    {
     "name": "stdout",
     "output_type": "stream",
     "text": [
      "Data Pipeline (StandardScaler >> RFClassifier) is created!\n",
      "\n",
      "Pipeline(memory=None,\n",
      "         steps=[('standardscaler',\n",
      "                 StandardScaler(copy=True, with_mean=True, with_std=True)),\n",
      "                ('randomforestclassifier',\n",
      "                 RandomForestClassifier(bootstrap=True, ccp_alpha=0.0,\n",
      "                                        class_weight=None, criterion='gini',\n",
      "                                        max_depth=None, max_features='auto',\n",
      "                                        max_leaf_nodes=None, max_samples=None,\n",
      "                                        min_impurity_decrease=0.0,\n",
      "                                        min_impurity_split=None,\n",
      "                                        min_samples_leaf=1, min_samples_split=2,\n",
      "                                        min_weight_fraction_leaf=0.0,\n",
      "                                        n_estimators=50, n_jobs=None,\n",
      "                                        oob_score=False, random_state=None,\n",
      "                                        verbose=1, warm_start=False))],\n",
      "         verbose=False)\n",
      "selected features: \n",
      "          Dist  FPAmp1  CIR\n",
      "0        3.09    2336  350\n",
      "1        5.25    2240  346\n",
      "2        6.05    2190  297\n",
      "3       14.08     805  163\n",
      "4        1.10    2427  359\n",
      "...       ...     ...  ...\n",
      "185785  24.23      11  173\n",
      "185786  18.91     690  244\n",
      "185787  24.10    1605  173\n",
      "185788  10.99    2240  308\n",
      "185789  18.03     661  195\n",
      "\n",
      "[185790 rows x 3 columns]\n",
      "3 classes labels:\n",
      " 0         1\n",
      "1         1\n",
      "2         1\n",
      "3         1\n",
      "4         1\n",
      "         ..\n",
      "185785    3\n",
      "185786    3\n",
      "185787    3\n",
      "185788    3\n",
      "185789    3\n",
      "Name: Label, Length: 185790, dtype: int64\n",
      "\n",
      "Total Data for test data at different scenario:\n",
      "(36015,) (36015, 3)\n",
      "\n",
      "Training in progress! This may take some times ... \n",
      "\n"
     ]
    },
    {
     "name": "stderr",
     "output_type": "stream",
     "text": [
      "[Parallel(n_jobs=1)]: Using backend SequentialBackend with 1 concurrent workers.\n",
      "[Parallel(n_jobs=1)]: Done  50 out of  50 | elapsed:    5.2s finished\n",
      "[Parallel(n_jobs=1)]: Using backend SequentialBackend with 1 concurrent workers.\n",
      "[Parallel(n_jobs=1)]: Done  50 out of  50 | elapsed:    0.5s finished\n",
      "[Parallel(n_jobs=1)]: Using backend SequentialBackend with 1 concurrent workers.\n",
      "[Parallel(n_jobs=1)]: Done  50 out of  50 | elapsed:    0.3s finished\n",
      "[Parallel(n_jobs=1)]: Using backend SequentialBackend with 1 concurrent workers.\n"
     ]
    },
    {
     "name": "stdout",
     "output_type": "stream",
     "text": [
      "\n",
      "Training Time in iter 0: 5.38s\n",
      "\n",
      "Testing Time in iter 0: 0.62s\n",
      "\n",
      "Test Accuracy in RF at same scenario in iter 0: 0.9209\n",
      "\n",
      "Test Accuracy in RF at diff scenario in iter 0: 0.7291\n",
      "\n",
      "Training in progress! This may take some times ... \n",
      "\n"
     ]
    },
    {
     "name": "stderr",
     "output_type": "stream",
     "text": [
      "[Parallel(n_jobs=1)]: Done  50 out of  50 | elapsed:    5.1s finished\n",
      "[Parallel(n_jobs=1)]: Using backend SequentialBackend with 1 concurrent workers.\n",
      "[Parallel(n_jobs=1)]: Done  50 out of  50 | elapsed:    0.5s finished\n",
      "[Parallel(n_jobs=1)]: Using backend SequentialBackend with 1 concurrent workers.\n",
      "[Parallel(n_jobs=1)]: Done  50 out of  50 | elapsed:    0.2s finished\n",
      "[Parallel(n_jobs=1)]: Using backend SequentialBackend with 1 concurrent workers.\n"
     ]
    },
    {
     "name": "stdout",
     "output_type": "stream",
     "text": [
      "\n",
      "Training Time in iter 1: 5.29s\n",
      "\n",
      "Testing Time in iter 1: 0.56s\n",
      "\n",
      "Test Accuracy in RF at same scenario in iter 1: 0.9213\n",
      "\n",
      "Test Accuracy in RF at diff scenario in iter 1: 0.7411\n",
      "\n",
      "Training in progress! This may take some times ... \n",
      "\n"
     ]
    },
    {
     "name": "stderr",
     "output_type": "stream",
     "text": [
      "[Parallel(n_jobs=1)]: Done  50 out of  50 | elapsed:    5.4s finished\n",
      "[Parallel(n_jobs=1)]: Using backend SequentialBackend with 1 concurrent workers.\n",
      "[Parallel(n_jobs=1)]: Done  50 out of  50 | elapsed:    0.5s finished\n",
      "[Parallel(n_jobs=1)]: Using backend SequentialBackend with 1 concurrent workers.\n",
      "[Parallel(n_jobs=1)]: Done  50 out of  50 | elapsed:    0.2s finished\n",
      "[Parallel(n_jobs=1)]: Using backend SequentialBackend with 1 concurrent workers.\n"
     ]
    },
    {
     "name": "stdout",
     "output_type": "stream",
     "text": [
      "\n",
      "Training Time in iter 2: 5.56s\n",
      "\n",
      "Testing Time in iter 2: 0.56s\n",
      "\n",
      "Test Accuracy in RF at same scenario in iter 2: 0.9211\n",
      "\n",
      "Test Accuracy in RF at diff scenario in iter 2: 0.7204\n",
      "\n",
      "Training in progress! This may take some times ... \n",
      "\n"
     ]
    },
    {
     "name": "stderr",
     "output_type": "stream",
     "text": [
      "[Parallel(n_jobs=1)]: Done  50 out of  50 | elapsed:    5.5s finished\n",
      "[Parallel(n_jobs=1)]: Using backend SequentialBackend with 1 concurrent workers.\n",
      "[Parallel(n_jobs=1)]: Done  50 out of  50 | elapsed:    0.5s finished\n",
      "[Parallel(n_jobs=1)]: Using backend SequentialBackend with 1 concurrent workers.\n",
      "[Parallel(n_jobs=1)]: Done  50 out of  50 | elapsed:    0.2s finished\n",
      "[Parallel(n_jobs=1)]: Using backend SequentialBackend with 1 concurrent workers.\n"
     ]
    },
    {
     "name": "stdout",
     "output_type": "stream",
     "text": [
      "\n",
      "Training Time in iter 3: 5.61s\n",
      "\n",
      "Testing Time in iter 3: 0.56s\n",
      "\n",
      "Test Accuracy in RF at same scenario in iter 3: 0.9190\n",
      "\n",
      "Test Accuracy in RF at diff scenario in iter 3: 0.7309\n",
      "\n",
      "Training in progress! This may take some times ... \n",
      "\n"
     ]
    },
    {
     "name": "stderr",
     "output_type": "stream",
     "text": [
      "[Parallel(n_jobs=1)]: Done  50 out of  50 | elapsed:    5.3s finished\n",
      "[Parallel(n_jobs=1)]: Using backend SequentialBackend with 1 concurrent workers.\n",
      "[Parallel(n_jobs=1)]: Done  50 out of  50 | elapsed:    0.5s finished\n",
      "[Parallel(n_jobs=1)]: Using backend SequentialBackend with 1 concurrent workers.\n",
      "[Parallel(n_jobs=1)]: Done  50 out of  50 | elapsed:    0.2s finished\n",
      "[Parallel(n_jobs=1)]: Using backend SequentialBackend with 1 concurrent workers.\n"
     ]
    },
    {
     "name": "stdout",
     "output_type": "stream",
     "text": [
      "\n",
      "Training Time in iter 4: 5.40s\n",
      "\n",
      "Testing Time in iter 4: 0.58s\n",
      "\n",
      "Test Accuracy in RF at same scenario in iter 4: 0.9190\n",
      "\n",
      "Test Accuracy in RF at diff scenario in iter 4: 0.7260\n",
      "\n",
      "Training in progress! This may take some times ... \n",
      "\n"
     ]
    },
    {
     "name": "stderr",
     "output_type": "stream",
     "text": [
      "[Parallel(n_jobs=1)]: Done  50 out of  50 | elapsed:    5.1s finished\n",
      "[Parallel(n_jobs=1)]: Using backend SequentialBackend with 1 concurrent workers.\n",
      "[Parallel(n_jobs=1)]: Done  50 out of  50 | elapsed:    0.7s finished\n",
      "[Parallel(n_jobs=1)]: Using backend SequentialBackend with 1 concurrent workers.\n",
      "[Parallel(n_jobs=1)]: Done  50 out of  50 | elapsed:    0.3s finished\n",
      "[Parallel(n_jobs=1)]: Using backend SequentialBackend with 1 concurrent workers.\n"
     ]
    },
    {
     "name": "stdout",
     "output_type": "stream",
     "text": [
      "\n",
      "Training Time in iter 5: 5.25s\n",
      "\n",
      "Testing Time in iter 5: 0.77s\n",
      "\n",
      "Test Accuracy in RF at same scenario in iter 5: 0.9192\n",
      "\n",
      "Test Accuracy in RF at diff scenario in iter 5: 0.7202\n",
      "\n",
      "Training in progress! This may take some times ... \n",
      "\n"
     ]
    },
    {
     "name": "stderr",
     "output_type": "stream",
     "text": [
      "[Parallel(n_jobs=1)]: Done  50 out of  50 | elapsed:    5.0s finished\n",
      "[Parallel(n_jobs=1)]: Using backend SequentialBackend with 1 concurrent workers.\n",
      "[Parallel(n_jobs=1)]: Done  50 out of  50 | elapsed:    0.4s finished\n",
      "[Parallel(n_jobs=1)]: Using backend SequentialBackend with 1 concurrent workers.\n",
      "[Parallel(n_jobs=1)]: Done  50 out of  50 | elapsed:    0.2s finished\n",
      "[Parallel(n_jobs=1)]: Using backend SequentialBackend with 1 concurrent workers.\n"
     ]
    },
    {
     "name": "stdout",
     "output_type": "stream",
     "text": [
      "\n",
      "Training Time in iter 6: 5.13s\n",
      "\n",
      "Testing Time in iter 6: 0.55s\n",
      "\n",
      "Test Accuracy in RF at same scenario in iter 6: 0.9209\n",
      "\n",
      "Test Accuracy in RF at diff scenario in iter 6: 0.7251\n",
      "\n",
      "Training in progress! This may take some times ... \n",
      "\n"
     ]
    },
    {
     "name": "stderr",
     "output_type": "stream",
     "text": [
      "[Parallel(n_jobs=1)]: Done  50 out of  50 | elapsed:    5.5s finished\n",
      "[Parallel(n_jobs=1)]: Using backend SequentialBackend with 1 concurrent workers.\n",
      "[Parallel(n_jobs=1)]: Done  50 out of  50 | elapsed:    0.5s finished\n",
      "[Parallel(n_jobs=1)]: Using backend SequentialBackend with 1 concurrent workers.\n",
      "[Parallel(n_jobs=1)]: Done  50 out of  50 | elapsed:    0.2s finished\n",
      "[Parallel(n_jobs=1)]: Using backend SequentialBackend with 1 concurrent workers.\n"
     ]
    },
    {
     "name": "stdout",
     "output_type": "stream",
     "text": [
      "\n",
      "Training Time in iter 7: 5.62s\n",
      "\n",
      "Testing Time in iter 7: 0.60s\n",
      "\n",
      "Test Accuracy in RF at same scenario in iter 7: 0.9197\n",
      "\n",
      "Test Accuracy in RF at diff scenario in iter 7: 0.7279\n",
      "\n",
      "Training in progress! This may take some times ... \n",
      "\n"
     ]
    },
    {
     "name": "stderr",
     "output_type": "stream",
     "text": [
      "[Parallel(n_jobs=1)]: Done  50 out of  50 | elapsed:    5.2s finished\n",
      "[Parallel(n_jobs=1)]: Using backend SequentialBackend with 1 concurrent workers.\n",
      "[Parallel(n_jobs=1)]: Done  50 out of  50 | elapsed:    0.5s finished\n",
      "[Parallel(n_jobs=1)]: Using backend SequentialBackend with 1 concurrent workers.\n",
      "[Parallel(n_jobs=1)]: Done  50 out of  50 | elapsed:    0.2s finished\n",
      "[Parallel(n_jobs=1)]: Using backend SequentialBackend with 1 concurrent workers.\n"
     ]
    },
    {
     "name": "stdout",
     "output_type": "stream",
     "text": [
      "\n",
      "Training Time in iter 8: 5.38s\n",
      "\n",
      "Testing Time in iter 8: 0.64s\n",
      "\n",
      "Test Accuracy in RF at same scenario in iter 8: 0.9182\n",
      "\n",
      "Test Accuracy in RF at diff scenario in iter 8: 0.7333\n",
      "\n",
      "Training in progress! This may take some times ... \n",
      "\n"
     ]
    },
    {
     "name": "stderr",
     "output_type": "stream",
     "text": [
      "[Parallel(n_jobs=1)]: Done  50 out of  50 | elapsed:    5.3s finished\n",
      "[Parallel(n_jobs=1)]: Using backend SequentialBackend with 1 concurrent workers.\n",
      "[Parallel(n_jobs=1)]: Done  50 out of  50 | elapsed:    0.6s finished\n",
      "[Parallel(n_jobs=1)]: Using backend SequentialBackend with 1 concurrent workers.\n",
      "[Parallel(n_jobs=1)]: Done  50 out of  50 | elapsed:    0.3s finished\n"
     ]
    },
    {
     "name": "stdout",
     "output_type": "stream",
     "text": [
      "\n",
      "Training Time in iter 9: 5.48s\n",
      "\n",
      "Testing Time in iter 9: 0.66s\n",
      "\n",
      "Test Accuracy in RF at same scenario in iter 9: 0.9217\n",
      "\n",
      "Test Accuracy in RF at diff scenario in iter 9: 0.7294\n",
      "\n",
      "\n",
      "\n",
      "Training and Testing of 10 iterations finished!\n",
      "\n",
      "Prediction results save as CSV in file name 'RF_pred_true_10iter.txt'\n",
      "\n",
      "\n",
      "Total Data Size, Training size, Test Size:\n",
      "(185790, 3)\n",
      "(130053, 3)\n",
      "(55737, 3)\n",
      "\n",
      "mean accuracy in RF at same scenario: 0.9201 +/- 0.001140\n",
      "\n",
      "mean accuracy in RF at diff scenario: 0.7283 +/- 0.005823\n",
      "\n",
      "mean Training Time with std in RF: 5.41 +/- 0.151980 (sec)\n",
      "\n",
      "mean Testing Time with std in RF: 0.61 +/- 0.064690 (sec)\n",
      "\n",
      "results save in the file name 'RF_10iter.txt'\n",
      "\n",
      "[[0.92086047 5.38127089 0.62053442]\n",
      " [0.92127312 5.29479146 0.55594039]\n",
      " [0.92111165 5.56321168 0.55679226]\n",
      " [0.91904839 5.60705638 0.55593228]\n",
      " [0.91901251 5.40384746 0.58436942]\n",
      " [0.91920986 5.24508858 0.76595449]\n",
      " [0.92089635 5.13167739 0.54514313]\n",
      " [0.91971222 5.61862588 0.60441184]\n",
      " [0.91822308 5.38221526 0.64012384]\n",
      " [0.92172166 5.48482847 0.66422391]]\n"
     ]
    }
   ],
   "source": [
    "%run -i \"uwb_scikit-learn_RF_pipeline_diff_scen\""
   ]
  },
  {
   "cell_type": "code",
   "execution_count": null,
   "metadata": {},
   "outputs": [],
   "source": []
  }
 ],
 "metadata": {
  "kernelspec": {
   "display_name": "Python 3",
   "language": "python",
   "name": "python3"
  },
  "language_info": {
   "codemirror_mode": {
    "name": "ipython",
    "version": 3
   },
   "file_extension": ".py",
   "mimetype": "text/x-python",
   "name": "python",
   "nbconvert_exporter": "python",
   "pygments_lexer": "ipython3",
   "version": "3.7.6"
  }
 },
 "nbformat": 4,
 "nbformat_minor": 4
}
